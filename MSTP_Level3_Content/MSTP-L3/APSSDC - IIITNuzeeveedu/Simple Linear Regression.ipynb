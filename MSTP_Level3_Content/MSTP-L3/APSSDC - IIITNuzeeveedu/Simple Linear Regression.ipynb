{
 "cells": [
  {
   "cell_type": "code",
   "execution_count": 3,
   "metadata": {},
   "outputs": [],
   "source": [
    "import numpy as np\n",
    "import matplotlib.pyplot as plt"
   ]
  },
  {
   "cell_type": "code",
   "execution_count": 4,
   "metadata": {},
   "outputs": [],
   "source": [
    "X = np.random.rand(100,1)\n",
    "#X"
   ]
  },
  {
   "cell_type": "code",
   "execution_count": 5,
   "metadata": {},
   "outputs": [],
   "source": [
    "y = 4 + 3*X + np.random.randn(100,1)"
   ]
  },
  {
   "cell_type": "code",
   "execution_count": 6,
   "metadata": {},
   "outputs": [
    {
     "data": {
      "text/plain": [
       "[<matplotlib.lines.Line2D at 0x1878d8765c8>]"
      ]
     },
     "execution_count": 6,
     "metadata": {},
     "output_type": "execute_result"
    },
    {
     "data": {
      "image/png": "[encoded data removed]",
      "text/plain": [
       "<Figure size 432x288 with 1 Axes>"
      ]
     },
     "metadata": {
      "needs_background": "light"
     },
     "output_type": "display_data"
    }
   ],
   "source": [
    "plt.plot(X,y,'.')"
   ]
  },
  {
   "cell_type": "code",
   "execution_count": 8,
   "metadata": {},
   "outputs": [
    {
     "data": {
      "text/plain": [
       "array([[1.        , 0.73949485],\n",
       "       [1.        , 0.21334496],\n",
       "       [1.        , 0.93070433],\n",
       "       [1.        , 0.92691893],\n",
       "       [1.        , 0.03380813],\n",
       "       [1.        , 0.64374764],\n",
       "       [1.        , 0.49871124],\n",
       "       [1.        , 0.97233059],\n",
       "       [1.        , 0.64479045],\n",
       "       [1.        , 0.08443127],\n",
       "       [1.        , 0.51905142],\n",
       "       [1.        , 0.1825515 ],\n",
       "       [1.        , 0.41995352],\n",
       "       [1.        , 0.83705308],\n",
       "       [1.        , 0.75066245],\n",
       "       [1.        , 0.01784163],\n",
       "       [1.        , 0.15449612],\n",
       "       [1.        , 0.31064066],\n",
       "       [1.        , 0.02677002],\n",
       "       [1.        , 0.981766  ],\n",
       "       [1.        , 0.37013353],\n",
       "       [1.        , 0.21571199],\n",
       "       [1.        , 0.58436519],\n",
       "       [1.        , 0.10472974],\n",
       "       [1.        , 0.34249235],\n",
       "       [1.        , 0.12630837],\n",
       "       [1.        , 0.57947819],\n",
       "       [1.        , 0.49968632],\n",
       "       [1.        , 0.92530571],\n",
       "       [1.        , 0.72900091],\n",
       "       [1.        , 0.9249336 ],\n",
       "       [1.        , 0.48579905],\n",
       "       [1.        , 0.27799499],\n",
       "       [1.        , 0.03070157],\n",
       "       [1.        , 0.60573804],\n",
       "       [1.        , 0.8192985 ],\n",
       "       [1.        , 0.5264743 ],\n",
       "       [1.        , 0.96773425],\n",
       "       [1.        , 0.46750821],\n",
       "       [1.        , 0.24554447],\n",
       "       [1.        , 0.43143165],\n",
       "       [1.        , 0.04111587],\n",
       "       [1.        , 0.00455247],\n",
       "       [1.        , 0.64589494],\n",
       "       [1.        , 0.840741  ],\n",
       "       [1.        , 0.66359332],\n",
       "       [1.        , 0.6208039 ],\n",
       "       [1.        , 0.5963144 ],\n",
       "       [1.        , 0.86824443],\n",
       "       [1.        , 0.17775398],\n",
       "       [1.        , 0.82910376],\n",
       "       [1.        , 0.46710605],\n",
       "       [1.        , 0.72630771],\n",
       "       [1.        , 0.10219001],\n",
       "       [1.        , 0.49884284],\n",
       "       [1.        , 0.20475283],\n",
       "       [1.        , 0.11865523],\n",
       "       [1.        , 0.2696789 ],\n",
       "       [1.        , 0.99725996],\n",
       "       [1.        , 0.56565043],\n",
       "       [1.        , 0.2620447 ],\n",
       "       [1.        , 0.26725226],\n",
       "       [1.        , 0.57227915],\n",
       "       [1.        , 0.07341004],\n",
       "       [1.        , 0.83480597],\n",
       "       [1.        , 0.52811908],\n",
       "       [1.        , 0.05602798],\n",
       "       [1.        , 0.47783295],\n",
       "       [1.        , 0.10177555],\n",
       "       [1.        , 0.07591246],\n",
       "       [1.        , 0.43565847],\n",
       "       [1.        , 0.24415539],\n",
       "       [1.        , 0.01212511],\n",
       "       [1.        , 0.35386395],\n",
       "       [1.        , 0.51267482],\n",
       "       [1.        , 0.59966946],\n",
       "       [1.        , 0.29643366],\n",
       "       [1.        , 0.89835446],\n",
       "       [1.        , 0.18489403],\n",
       "       [1.        , 0.13790309],\n",
       "       [1.        , 0.04369462],\n",
       "       [1.        , 0.32414943],\n",
       "       [1.        , 0.70988215],\n",
       "       [1.        , 0.38997123],\n",
       "       [1.        , 0.48719937],\n",
       "       [1.        , 0.62460845],\n",
       "       [1.        , 0.50807114],\n",
       "       [1.        , 0.36998998],\n",
       "       [1.        , 0.98964075],\n",
       "       [1.        , 0.95841226],\n",
       "       [1.        , 0.54766154],\n",
       "       [1.        , 0.0987534 ],\n",
       "       [1.        , 0.05018312],\n",
       "       [1.        , 0.29287583],\n",
       "       [1.        , 0.30632486],\n",
       "       [1.        , 0.83919285],\n",
       "       [1.        , 0.13448708],\n",
       "       [1.        , 0.88770325],\n",
       "       [1.        , 0.58937304],\n",
       "       [1.        , 0.44638127]])"
      ]
     },
     "execution_count": 8,
     "metadata": {},
     "output_type": "execute_result"
    }
   ],
   "source": [
    "X_b = np.c_[np.ones((100,1)),X] #add x0 = 1 to each instance\n",
    "X_b"
   ]
  },
  {
   "cell_type": "code",
   "execution_count": 7,
   "metadata": {},
   "outputs": [
    {
     "ename": "NameError",
     "evalue": "name 'X_b' is not defined",
     "output_type": "error",
     "traceback": [
      "\u001b[1;31m---------------------------------------------------------------------------\u001b[0m",
      "\u001b[1;31mNameError\u001b[0m                                 Traceback (most recent call last)",
      "\u001b[1;32m<ipython-input-7-3da521bf943a>\u001b[0m in \u001b[0;36m<module>\u001b[1;34m\u001b[0m\n\u001b[1;32m----> 1\u001b[1;33m \u001b[0mtheta_best\u001b[0m \u001b[1;33m=\u001b[0m \u001b[0mnp\u001b[0m\u001b[1;33m.\u001b[0m\u001b[0mlinalg\u001b[0m\u001b[1;33m.\u001b[0m\u001b[0minv\u001b[0m\u001b[1;33m(\u001b[0m\u001b[0mX_b\u001b[0m\u001b[1;33m.\u001b[0m\u001b[0mT\u001b[0m\u001b[1;33m.\u001b[0m\u001b[0mdot\u001b[0m\u001b[1;33m(\u001b[0m\u001b[0mX_b\u001b[0m\u001b[1;33m)\u001b[0m\u001b[1;33m)\u001b[0m\u001b[1;33m.\u001b[0m\u001b[0mdot\u001b[0m\u001b[1;33m(\u001b[0m\u001b[0mX_b\u001b[0m\u001b[1;33m.\u001b[0m\u001b[0mT\u001b[0m\u001b[1;33m)\u001b[0m\u001b[1;33m.\u001b[0m\u001b[0mdot\u001b[0m\u001b[1;33m(\u001b[0m\u001b[0my\u001b[0m\u001b[1;33m)\u001b[0m\u001b[1;33m\u001b[0m\u001b[1;33m\u001b[0m\u001b[0m\n\u001b[0m",
      "\u001b[1;31mNameError\u001b[0m: name 'X_b' is not defined"
     ]
    }
   ],
   "source": [
    "theta_best = np.linalg.inv(X_b.T.dot(X_b)).dot(X_b.T).dot(y)"
   ]
  },
  {
   "cell_type": "code",
   "execution_count": 1,
   "metadata": {},
   "outputs": [
    {
     "ename": "NameError",
     "evalue": "name 'theta_best' is not defined",
     "output_type": "error",
     "traceback": [
      "\u001b[1;31m---------------------------------------------------------------------------\u001b[0m",
      "\u001b[1;31mNameError\u001b[0m                                 Traceback (most recent call last)",
      "\u001b[1;32m<ipython-input-1-6bc9f6b581f1>\u001b[0m in \u001b[0;36m<module>\u001b[1;34m\u001b[0m\n\u001b[1;32m----> 1\u001b[1;33m \u001b[0mtheta_best\u001b[0m\u001b[1;33m\u001b[0m\u001b[1;33m\u001b[0m\u001b[0m\n\u001b[0m",
      "\u001b[1;31mNameError\u001b[0m: name 'theta_best' is not defined"
     ]
    }
   ],
   "source": [
    "theta_best"
   ]
  },
  {
   "cell_type": "markdown",
   "metadata": {},
   "source": [
    "We would have expected 0o = 4 and 01(Theta 1) = 3 instead of above values as we have the Gaussian Noise which made it impossible to recover the exact parameters."
   ]
  },
  {
   "cell_type": "code",
   "execution_count": 10,
   "metadata": {},
   "outputs": [],
   "source": [
    "X_new = np.array([[0],[2]])"
   ]
  },
  {
   "cell_type": "code",
   "execution_count": 11,
   "metadata": {},
   "outputs": [],
   "source": [
    "X_new_b = np.c_[np.ones((2,1)),X_new] "
   ]
  },
  {
   "cell_type": "code",
   "execution_count": 12,
   "metadata": {},
   "outputs": [
    {
     "data": {
      "text/plain": [
       "array([[1., 0.],\n",
       "       [1., 2.]])"
      ]
     },
     "execution_count": 12,
     "metadata": {},
     "output_type": "execute_result"
    }
   ],
   "source": [
    "X_new_b"
   ]
  },
  {
   "cell_type": "code",
   "execution_count": 11,
   "metadata": {},
   "outputs": [],
   "source": [
    "y_predict = X_new_b.dot(theta_best)"
   ]
  },
  {
   "cell_type": "code",
   "execution_count": 26,
   "metadata": {},
   "outputs": [
    {
     "data": {
      "text/plain": [
       "array([[3.95853905],\n",
       "       [9.95763651]])"
      ]
     },
     "execution_count": 26,
     "metadata": {},
     "output_type": "execute_result"
    }
   ],
   "source": [
    "y_predict"
   ]
  },
  {
   "cell_type": "code",
   "execution_count": 13,
   "metadata": {},
   "outputs": [
    {
     "data": {
      "text/plain": [
       "[0, 2, 0, 15]"
      ]
     },
     "execution_count": 13,
     "metadata": {},
     "output_type": "execute_result"
    },
    {
     "data": {
      "image/png": "[encoded data removed]",
      "text/plain": [
       "<Figure size 432x288 with 1 Axes>"
      ]
     },
     "metadata": {
      "needs_background": "light"
     },
     "output_type": "display_data"
    }
   ],
   "source": [
    "plt.plot(X_new,y_predict,'r')\n",
    "plt.plot(X,y,'.')\n",
    "plt.axis([0,2,0,15])"
   ]
  },
  {
   "cell_type": "markdown",
   "metadata": {},
   "source": [
    "The Equivalent code using scikit-learn looks like this:"
   ]
  },
  {
   "cell_type": "code",
   "execution_count": 14,
   "metadata": {},
   "outputs": [
    {
     "data": {
      "text/plain": [
       "(array([3.95853905]), array([[2.99954873]]))"
      ]
     },
     "execution_count": 14,
     "metadata": {},
     "output_type": "execute_result"
    }
   ],
   "source": [
    "from sklearn.linear_model import LinearRegression\n",
    "lin_reg = LinearRegression()\n",
    "lin_reg.fit(X,y)\n",
    "lin_reg.intercept_,lin_reg.coef_"
   ]
  },
  {
   "cell_type": "code",
   "execution_count": 15,
   "metadata": {},
   "outputs": [
    {
     "data": {
      "text/plain": [
       "array([[3.95853905],\n",
       "       [9.95763651]])"
      ]
     },
     "execution_count": 15,
     "metadata": {},
     "output_type": "execute_result"
    }
   ],
   "source": [
    "lin_reg.predict(X_new)"
   ]
  },
  {
   "cell_type": "markdown",
   "metadata": {},
   "source": [
    "#Gradient Descent"
   ]
  },
  {
   "cell_type": "code",
   "execution_count": 16,
   "metadata": {},
   "outputs": [],
   "source": [
    "eta = 0.1 #learning rate\n",
    "n_iterations = 1000\n",
    "m = 100\n",
    "theta = np.random.randn(2,1)"
   ]
  },
  {
   "cell_type": "code",
   "execution_count": 17,
   "metadata": {},
   "outputs": [],
   "source": [
    "for iteration in range(n_iterations):\n",
    "    gradients = 2/m *X_b.T.dot(X_b.dot(theta)-y)\n",
    "    theta = theta - eta*gradients"
   ]
  },
  {
   "cell_type": "code",
   "execution_count": 18,
   "metadata": {},
   "outputs": [
    {
     "data": {
      "text/plain": [
       "array([[3.95854012],\n",
       "       [2.99954675]])"
      ]
     },
     "execution_count": 18,
     "metadata": {},
     "output_type": "execute_result"
    }
   ],
   "source": [
    "theta"
   ]
  },
  {
   "cell_type": "markdown",
   "metadata": {},
   "source": [
    "Hey,thats exactly what the normal equation found!Gradient woked perfectly.But what if the learning rate is different for very less values it will take more time and for very high values it will diverge and go out of our bound thats the reason i have chosen moderate value of 0.1"
   ]
  },
  {
   "cell_type": "code",
   "execution_count": null,
   "metadata": {},
   "outputs": [],
   "source": []
  }
 ],
 "metadata": {
  "kernelspec": {
   "display_name": "Python 3",
   "language": "python",
   "name": "python3"
  },
  "language_info": {
   "codemirror_mode": {
    "name": "ipython",
    "version": 3
   },
   "file_extension": ".py",
   "mimetype": "text/x-python",
   "name": "python",
   "nbconvert_exporter": "python",
   "pygments_lexer": "ipython3",
   "version": "3.7.4"
  }
 },
 "nbformat": 4,
 "nbformat_minor": 2
}
