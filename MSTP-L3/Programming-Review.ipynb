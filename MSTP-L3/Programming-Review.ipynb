{
 "cells": [
  {
   "cell_type": "markdown",
   "metadata": {},
   "source": [
    "#### Special Number\n",
    "- sum of any two distinct single digit odd prime number with each of the prime number having a postive power\n",
    "    - 8 = 3^1 + 5^1\n",
    "    - 10 = 3^1 + 7^1\n",
    "    - 12 = 5^1 + 7^1\n",
    "    - 14 = 3^2 + 5^1\n",
    "    - 16 = 3^2 + 7^1\n",
    "    - 32 = 5^2 + 7^1, 3^3 + 5^1\n",
    "    - 34 = 3^2 + 5^2, 3^3 + 5^3"
   ]
  },
  {
   "cell_type": "code",
   "execution_count": 14,
   "metadata": {},
   "outputs": [],
   "source": [
    "def specialNumberCheck(N):\n",
    "    list3 = []\n",
    "    list5 = []\n",
    "    list7 = []\n",
    "    fp = 10\n",
    "    for i in range(1, 11):\n",
    "        list3.append(3 ** i)\n",
    "        list5.append(5 ** i)\n",
    "        list7.append(7 ** i)\n",
    "    for i in range(10):\n",
    "        for j in range(10):\n",
    "            if((list3[i] + list5[j] == N) or (list3[i]+list7[j] == N)):\n",
    "                return True\n",
    "    for i in range(10):\n",
    "        for j in range(10):\n",
    "            if(list5[i] + list7[j] == N):\n",
    "                return True\n",
    "    return False\n",
    "\n",
    "# specialNumberCheck(30)\n",
    "                "
   ]
  },
  {
   "cell_type": "code",
   "execution_count": 28,
   "metadata": {},
   "outputs": [
    {
     "name": "stdout",
     "output_type": "stream",
     "text": [
      "12\n"
     ]
    }
   ],
   "source": [
    "# convert a number to a special number by adding 1\n",
    "def nextSpecialNumber(N):\n",
    "    if(specialNumberCheck(N)!= True):\n",
    "        nextSpecialNumber(N + 1)\n",
    "    else:\n",
    "        print(N)\n",
    "nextSpecialNumber(11)"
   ]
  },
  {
   "cell_type": "code",
   "execution_count": 25,
   "metadata": {},
   "outputs": [
    {
     "name": "stdout",
     "output_type": "stream",
     "text": [
      "10\n"
     ]
    }
   ],
   "source": [
    "# Convert a number to a special number by subtracting 1\n",
    "def prevSpecialNumber(N):\n",
    "    if(specialNumberCheck(N)!= True):\n",
    "        prevSpecialNumber(N-1)\n",
    "    else:\n",
    "        print(N)\n",
    "prevSpecialNumber(11)"
   ]
  },
  {
   "cell_type": "code",
   "execution_count": null,
   "metadata": {},
   "outputs": [],
   "source": []
  }
 ],
 "metadata": {
  "kernelspec": {
   "display_name": "Python 3",
   "language": "python",
   "name": "python3"
  },
  "language_info": {
   "codemirror_mode": {
    "name": "ipython",
    "version": 3
   },
   "file_extension": ".py",
   "mimetype": "text/x-python",
   "name": "python",
   "nbconvert_exporter": "python",
   "pygments_lexer": "ipython3",
   "version": "3.7.4"
  }
 },
 "nbformat": 4,
 "nbformat_minor": 2
}
