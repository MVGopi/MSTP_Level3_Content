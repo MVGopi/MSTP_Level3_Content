{
 "cells": [
  {
   "cell_type": "code",
   "execution_count": 7,
   "metadata": {},
   "outputs": [
    {
     "data": {
      "text/plain": [
       "14.1"
      ]
     },
     "execution_count": 7,
     "metadata": {},
     "output_type": "execute_result"
    }
   ],
   "source": [
    "marks = [100, 5, 5, 1, 1, 1, 7, 7, 7, 7]\n",
    "mean = sum(marks)/len(marks)\n",
    "mean"
   ]
  },
  {
   "cell_type": "code",
   "execution_count": 8,
   "metadata": {},
   "outputs": [
    {
     "data": {
      "text/plain": [
       "28.74178143400301"
      ]
     },
     "execution_count": 8,
     "metadata": {},
     "output_type": "execute_result"
    }
   ],
   "source": [
    "sumSigma = 0 # (xi -mean) ** 2\n",
    "for i in marks:\n",
    "    sumSigma += (i-mean) ** 2\n",
    "variance  = sumSigma/len(marks)\n",
    "variance\n",
    "SD = variance ** 0.5 # Standard Deviation\n",
    "SD"
   ]
  },
  {
   "cell_type": "code",
   "execution_count": 10,
   "metadata": {},
   "outputs": [
    {
     "data": {
      "text/plain": [
       "0.3"
      ]
     },
     "execution_count": 10,
     "metadata": {},
     "output_type": "execute_result"
    }
   ],
   "source": [
    "freq = {1 : 3, 5 : 2, 7 : 4, 100 : 1}\n",
    "\n",
    "p100 = freq[100]/len(marks) # probability\n",
    " \n",
    "p100 # 1/10\n",
    "\n",
    "p1 = freq[1]/len(marks) # 3/10\n",
    "\n",
    "p1"
   ]
  },
  {
   "cell_type": "code",
   "execution_count": 15,
   "metadata": {},
   "outputs": [
    {
     "data": {
      "text/plain": [
       "array([  1.,   0.,   0.,   2.,   5.,   3.,   3.,   9.,  16.,  23.,  23.,\n",
       "        52.,  65., 122., 125., 170., 214., 258., 361., 367., 392., 454.,\n",
       "       530., 590., 542., 591., 614., 637., 545., 564., 467., 469., 396.,\n",
       "       317., 256., 214., 161., 130.,  94.,  63.,  51.,  32.,  24.,  21.,\n",
       "         9.,   7.,   6.,   2.,   1.,   2.])"
      ]
     },
     "execution_count": 15,
     "metadata": {},
     "output_type": "execute_result"
    },
    {
     "data": {
      "image/png": "[encoded data removed]",
      "text/plain": [
       "<Figure size 432x288 with 1 Axes>"
      ]
     },
     "metadata": {
      "needs_background": "light"
     },
     "output_type": "display_data"
    }
   ],
   "source": [
    "import numpy as np\n",
    "import matplotlib.pyplot as plt\n",
    "\n",
    "mu, sigma = 100, 15\n",
    "\n",
    "x = mu + sigma  * np.random.randn(10000)\n",
    "\n",
    "n, bins, patches = plt.hist(x, 50)\n"
   ]
  },
  {
   "cell_type": "code",
   "execution_count": 25,
   "metadata": {},
   "outputs": [
    {
     "data": {
      "text/plain": [
       "(14.1, 7, 7)"
      ]
     },
     "execution_count": 25,
     "metadata": {},
     "output_type": "execute_result"
    }
   ],
   "source": [
    "# Median\n",
    "\n",
    "sortedMarks = sorted(marks)\n",
    "\n",
    "median = sortedMarks[len(sortedMarks)//2]\n",
    "\n",
    "median\n",
    "\n",
    "mean\n",
    "\n",
    "# Mode is max frequnecy value\n",
    "\n",
    "mode = [value for value in marks if marks.count(value) == max(freq.values())]\n",
    "\n",
    "mean, mode[0], median"
   ]
  },
  {
   "cell_type": "code",
   "execution_count": null,
   "metadata": {},
   "outputs": [],
   "source": []
  }
 ],
 "metadata": {
  "kernelspec": {
   "display_name": "Python 3",
   "language": "python",
   "name": "python3"
  },
  "language_info": {
   "codemirror_mode": {
    "name": "ipython",
    "version": 3
   },
   "file_extension": ".py",
   "mimetype": "text/x-python",
   "name": "python",
   "nbconvert_exporter": "python",
   "pygments_lexer": "ipython3",
   "version": "3.7.4"
  }
 },
 "nbformat": 4,
 "nbformat_minor": 2
}
